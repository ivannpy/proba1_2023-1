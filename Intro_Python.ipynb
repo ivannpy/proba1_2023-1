{
 "cells": [
  {
   "cell_type": "markdown",
   "id": "da7b2528",
   "metadata": {
    "id": "da7b2528"
   },
   "source": [
    "# Fudamentos de programación en Python"
   ]
  },
  {
   "cell_type": "markdown",
   "id": "6a8157a7",
   "metadata": {
    "id": "6a8157a7"
   },
   "source": [
    "## hello_world.py"
   ]
  },
  {
   "cell_type": "code",
   "execution_count": 1,
   "id": "6b06a963",
   "metadata": {
    "colab": {
     "base_uri": "https://localhost:8080/"
    },
    "id": "6b06a963",
    "outputId": "7db00196-05a3-4301-bd18-174079cc756a"
   },
   "outputs": [
    {
     "name": "stdout",
     "output_type": "stream",
     "text": [
      "Hello world :)\n"
     ]
    }
   ],
   "source": [
    "print(\"Hello world :)\")\n",
    "# Esta funcion imprime \"Hola mundo\" "
   ]
  },
  {
   "cell_type": "markdown",
   "id": "012399b9",
   "metadata": {
    "id": "012399b9"
   },
   "source": [
    "En Python todo lo que sea de la forma\n",
    "\n",
    "    func(params)\n",
    "\n",
    "es una función.\n",
    "En particular la función\n",
    "\n",
    "    print(\"texto\")\n",
    "    \n",
    "recibe (entre otras cosas) un argumento del tipo cadena o String y lo muestra en pantalla."
   ]
  },
  {
   "cell_type": "markdown",
   "id": "ea53172e",
   "metadata": {
    "id": "ea53172e"
   },
   "source": [
    "## Convención de nombres para variables\n",
    "\n",
    "En Python se usa snake_case, lo que significa que si queremos usar nombres para definir objetos en Python, estos irán en minúsculas y separados por underscores _.\n",
    "\n",
    "Ejemplos:\n",
    "\n",
    "    my_first_variable: str = \"Hello world\"\n",
    "\n",
    "    sample_size: int = 1234"
   ]
  },
  {
   "cell_type": "markdown",
   "id": "f86d93de",
   "metadata": {
    "id": "f86d93de"
   },
   "source": [
    "## Operador de asignación e identificadores\n",
    "\n",
    "El operador de asignación es\n",
    "\n",
    "    =\n",
    "    \n",
    "que asigna el valor a su derecha al identificador de la izquierda.\n",
    "\n",
    "Ejemplo:\n",
    "\n",
    "    sample_size: int = 10\n",
    "\n",
    "En este caso se asigna el valor 10 al objeto con identificador \"sample_size\" del tipo int (entero).\n"
   ]
  },
  {
   "cell_type": "markdown",
   "id": "c54fde04",
   "metadata": {
    "id": "c54fde04"
   },
   "source": [
    "## Sentencias y comentarios\n",
    "\n",
    "Una sentencia es cualquier expresión (válida) en Python.\n",
    "\n",
    "Ejemplos de sentencias:\n",
    "\n",
    "    print(\"Hello world\")\n",
    "    sample_size: int = 10\n",
    "    my_name: str = \"Iván\"\n",
    "    \n",
    "    if true:\n",
    "        print(\"Hello\")\n",
    "        \n",
    "Un comentario es cualquier línea de código que comienza con # o que comienza o termina por triples comillas dobles.\n",
    "\n",
    "Ejemplo\n",
    "\n",
    "    # Este es un comentario\n",
    "    # Los comentarios son ignorados por el intérprete de Python.\n",
    "    \"\"\"\n",
    "    En ciencias de la computación, intérprete o interpretador es un programa informático capaz de analizar y ejecutar otros programas. Los intérpretes se diferencian de los compiladores o de los ensambladores en que mientras estos traducen un programa desde su descripción en un lenguaje de programación al código de máquina del sistema, los intérpretes solo realizan la traducción a medida que sea necesaria, típicamente, instrucción por instrucción, y normalmente no guardan el resultado de dicha traducción. \n",
    "    \"\"\""
   ]
  },
  {
   "cell_type": "markdown",
   "id": "1eb98db2",
   "metadata": {
    "id": "1eb98db2"
   },
   "source": [
    "## Tipos de datos I"
   ]
  },
  {
   "cell_type": "markdown",
   "id": "24564069",
   "metadata": {
    "id": "24564069"
   },
   "source": [
    "### La clase str\n",
    "La clase str define los objetos del tipo cadena de texto."
   ]
  },
  {
   "cell_type": "code",
   "execution_count": 2,
   "id": "11ded79f",
   "metadata": {
    "id": "11ded79f"
   },
   "outputs": [],
   "source": [
    "my_name: str = \"Ivan Reyes\""
   ]
  },
  {
   "cell_type": "code",
   "execution_count": 3,
   "id": "e40d25ac",
   "metadata": {
    "colab": {
     "base_uri": "https://localhost:8080/",
     "height": 35
    },
    "id": "e40d25ac",
    "outputId": "7e005c51-4813-4884-d6fb-95e65f5e5cef"
   },
   "outputs": [
    {
     "data": {
      "text/plain": [
       "''"
      ]
     },
     "execution_count": 3,
     "metadata": {},
     "output_type": "execute_result"
    }
   ],
   "source": [
    "str()"
   ]
  },
  {
   "cell_type": "code",
   "execution_count": 4,
   "id": "21f47b77",
   "metadata": {
    "id": "21f47b77"
   },
   "outputs": [],
   "source": [
    "# Long strings\n",
    "\n",
    "text: str = \"\"\" PyPy es un intérprete y compilador JIT para el lenguaje Python, \n",
    "que se enfoca en la velocidad y eficiencia, y es 100% compatible con el \n",
    "intérprete original CPython\"\"\""
   ]
  },
  {
   "cell_type": "code",
   "execution_count": 5,
   "id": "c1ee6247",
   "metadata": {
    "id": "c1ee6247",
    "outputId": "2e01662e-d20c-42aa-ff83-4220c0f9c5d6"
   },
   "outputs": [
    {
     "name": "stdout",
     "output_type": "stream",
     "text": [
      " PyPy es un intérprete y compilador JIT para el lenguaje Python, \n",
      "que se enfoca en la velocidad y eficiencia, y es 100% compatible con el \n",
      "intérprete original CPython\n"
     ]
    }
   ],
   "source": [
    "print(text)"
   ]
  },
  {
   "cell_type": "markdown",
   "id": "b7a7b76f",
   "metadata": {
    "id": "b7a7b76f"
   },
   "source": [
    "#### Concatenación de strings\n",
    "Para concatenar cadenas de texto se usa el operador +."
   ]
  },
  {
   "cell_type": "code",
   "execution_count": 6,
   "id": "101d823f",
   "metadata": {
    "id": "101d823f"
   },
   "outputs": [],
   "source": [
    "text1: str = \"Hello\"\n",
    "text2: str = \", world\"\n",
    "\n",
    "text3: str = text1 + text2"
   ]
  },
  {
   "cell_type": "code",
   "execution_count": 7,
   "id": "77582116",
   "metadata": {
    "id": "77582116",
    "outputId": "f7706982-7a3c-44b5-8e36-e974a81f95b2"
   },
   "outputs": [
    {
     "name": "stdout",
     "output_type": "stream",
     "text": [
      "Hello, world\n"
     ]
    }
   ],
   "source": [
    "print(text3)"
   ]
  },
  {
   "cell_type": "markdown",
   "id": "de837c12",
   "metadata": {
    "id": "de837c12"
   },
   "source": [
    "#### Formatting y f-strings\n",
    "\n",
    "El formatting se refiere a embeber valores dentro de una cadena de texto."
   ]
  },
  {
   "cell_type": "code",
   "execution_count": 8,
   "id": "a0d58337",
   "metadata": {
    "id": "a0d58337",
    "outputId": "273c8f74-d708-4f1f-fd51-d6db41afeea5"
   },
   "outputs": [
    {
     "name": "stdout",
     "output_type": "stream",
     "text": [
      "¿Qué día es hoy?sabado\n",
      "Hoy es sabado\n"
     ]
    }
   ],
   "source": [
    "day:int = input(\"¿Qué día es hoy?\")\n",
    "\n",
    "sentence: str = f\"Hoy es {day}\"\n",
    "\n",
    "print(sentence)"
   ]
  },
  {
   "cell_type": "markdown",
   "id": "b7fa97b7",
   "metadata": {
    "id": "b7fa97b7"
   },
   "source": [
    "### La clase bool\n",
    "La clase bool define los objetos True y False."
   ]
  },
  {
   "cell_type": "code",
   "execution_count": 9,
   "id": "73c1f8d2",
   "metadata": {
    "id": "73c1f8d2"
   },
   "outputs": [],
   "source": [
    "is_red = True\n",
    "is_blue = False"
   ]
  },
  {
   "cell_type": "code",
   "execution_count": 10,
   "id": "038ad0e9",
   "metadata": {
    "id": "038ad0e9",
    "outputId": "56a3137b-df19-48f2-80d9-45429d173273"
   },
   "outputs": [
    {
     "name": "stdout",
     "output_type": "stream",
     "text": [
      "Escribe tu edad.24\n",
      "Mayor de edad\n"
     ]
    }
   ],
   "source": [
    "age = int(input(\"Escribe tu edad.\"))\n",
    "\n",
    "if age > 17:\n",
    "    print(\"Mayor de edad\")\n",
    "else:\n",
    "    print(\"Menor de edad\")"
   ]
  },
  {
   "cell_type": "code",
   "execution_count": 11,
   "id": "d92551c6",
   "metadata": {
    "id": "d92551c6",
    "outputId": "4661dbe7-3b2d-4fc4-c06c-0f05121f29ab"
   },
   "outputs": [
    {
     "data": {
      "text/plain": [
       "True"
      ]
     },
     "execution_count": 11,
     "metadata": {},
     "output_type": "execute_result"
    }
   ],
   "source": [
    "age > 17"
   ]
  },
  {
   "cell_type": "code",
   "execution_count": 12,
   "id": "c1916414",
   "metadata": {
    "id": "c1916414"
   },
   "outputs": [],
   "source": [
    "is_adult:bool = age > 17"
   ]
  },
  {
   "cell_type": "code",
   "execution_count": 13,
   "id": "7e492f4a",
   "metadata": {
    "id": "7e492f4a",
    "outputId": "c8ebc6ed-4b8a-4f11-a787-8b4cae4865a5"
   },
   "outputs": [
    {
     "data": {
      "text/plain": [
       "True"
      ]
     },
     "execution_count": 13,
     "metadata": {},
     "output_type": "execute_result"
    }
   ],
   "source": [
    "is_adult"
   ]
  },
  {
   "cell_type": "markdown",
   "id": "5aabcd53",
   "metadata": {
    "id": "5aabcd53"
   },
   "source": [
    "### La clase int\n",
    "\n",
    "La clase int define los números enteros en Python.\n"
   ]
  },
  {
   "cell_type": "code",
   "execution_count": 14,
   "id": "66b45846",
   "metadata": {
    "id": "66b45846"
   },
   "outputs": [],
   "source": [
    "age: int = 24"
   ]
  },
  {
   "cell_type": "code",
   "execution_count": 15,
   "id": "b526d3d1",
   "metadata": {
    "id": "b526d3d1",
    "outputId": "b1ad062a-9d6d-4500-faa5-69656bd3ff65"
   },
   "outputs": [
    {
     "name": "stdout",
     "output_type": "stream",
     "text": [
      "24\n"
     ]
    }
   ],
   "source": [
    "print(age)"
   ]
  },
  {
   "cell_type": "code",
   "execution_count": 16,
   "id": "bc078532",
   "metadata": {
    "id": "bc078532",
    "outputId": "904c9470-75c2-4028-e51b-c25566d5c35a"
   },
   "outputs": [
    {
     "data": {
      "text/plain": [
       "int"
      ]
     },
     "execution_count": 16,
     "metadata": {},
     "output_type": "execute_result"
    }
   ],
   "source": [
    "type(age)"
   ]
  },
  {
   "cell_type": "code",
   "execution_count": 17,
   "id": "18694bdc",
   "metadata": {
    "id": "18694bdc",
    "outputId": "09700a5b-9f51-4fb0-9692-5e3e786850df"
   },
   "outputs": [
    {
     "data": {
      "text/plain": [
       "0"
      ]
     },
     "execution_count": 17,
     "metadata": {},
     "output_type": "execute_result"
    }
   ],
   "source": [
    "int()"
   ]
  },
  {
   "cell_type": "code",
   "execution_count": 18,
   "id": "ffa3f10f",
   "metadata": {
    "id": "ffa3f10f"
   },
   "outputs": [],
   "source": [
    "age = 24"
   ]
  },
  {
   "cell_type": "code",
   "execution_count": 19,
   "id": "c1a6c475",
   "metadata": {
    "id": "c1a6c475",
    "outputId": "1d5fdb86-ceda-4a60-b943-ff0f61c59549"
   },
   "outputs": [
    {
     "name": "stdout",
     "output_type": "stream",
     "text": [
      "24\n"
     ]
    }
   ],
   "source": [
    "print(age)"
   ]
  },
  {
   "cell_type": "markdown",
   "id": "1e3d281a",
   "metadata": {
    "id": "1e3d281a"
   },
   "source": [
    "### La clase float\n",
    "\n",
    "La clase float define los números 'reales' en Python.\n"
   ]
  },
  {
   "cell_type": "code",
   "execution_count": 20,
   "id": "6fd74700",
   "metadata": {
    "id": "6fd74700"
   },
   "outputs": [],
   "source": [
    "temperature: float = 12.34"
   ]
  },
  {
   "cell_type": "code",
   "execution_count": 21,
   "id": "8545c9bc",
   "metadata": {
    "id": "8545c9bc",
    "outputId": "59b868bb-dd34-4a83-ce66-60d4c13d6900"
   },
   "outputs": [
    {
     "name": "stdout",
     "output_type": "stream",
     "text": [
      "12.34\n"
     ]
    }
   ],
   "source": [
    "print(temperature)"
   ]
  },
  {
   "cell_type": "code",
   "execution_count": 22,
   "id": "8d8e407c",
   "metadata": {
    "id": "8d8e407c",
    "outputId": "e890345e-8627-48d4-8223-a2ebe1a3dd5b"
   },
   "outputs": [
    {
     "data": {
      "text/plain": [
       "float"
      ]
     },
     "execution_count": 22,
     "metadata": {},
     "output_type": "execute_result"
    }
   ],
   "source": [
    "type(temperature)"
   ]
  },
  {
   "cell_type": "markdown",
   "id": "cc867c77",
   "metadata": {
    "id": "cc867c77"
   },
   "source": [
    "## Estructuras de control (control de flujo)"
   ]
  },
  {
   "cell_type": "markdown",
   "id": "11cfe9a6",
   "metadata": {
    "id": "11cfe9a6"
   },
   "source": [
    "### Operadores"
   ]
  },
  {
   "cell_type": "markdown",
   "id": "AHRsSitAXiXv",
   "metadata": {
    "id": "AHRsSitAXiXv"
   },
   "source": [
    "El operador de igualdad verifica si se cumple una condición. Por ejemplo,\n",
    "    1 == 2\n",
    "resulta en False (falso) porque 1 no es igual a 2."
   ]
  },
  {
   "cell_type": "code",
   "execution_count": 23,
   "id": "5d4a37e8",
   "metadata": {
    "id": "5d4a37e8",
    "outputId": "7be8101b-e9c2-4da3-b27b-3769fd886f24"
   },
   "outputs": [
    {
     "data": {
      "text/plain": [
       "False"
      ]
     },
     "execution_count": 23,
     "metadata": {},
     "output_type": "execute_result"
    }
   ],
   "source": [
    "# Operador de igualdad\n",
    "\n",
    "1 == 2"
   ]
  },
  {
   "cell_type": "markdown",
   "id": "-DdmXPlzXw6R",
   "metadata": {
    "id": "-DdmXPlzXw6R"
   },
   "source": [
    "Los operadores de comparación dan el resultado de si se cumple o no la condición."
   ]
  },
  {
   "cell_type": "code",
   "execution_count": 24,
   "id": "9c5e88d6",
   "metadata": {
    "id": "9c5e88d6",
    "outputId": "153d0ee3-bfc8-4ae3-8466-af54117e73c2"
   },
   "outputs": [
    {
     "data": {
      "text/plain": [
       "True"
      ]
     },
     "execution_count": 24,
     "metadata": {},
     "output_type": "execute_result"
    }
   ],
   "source": [
    "# Operadores de comparación\n",
    "\n",
    "1 < 2"
   ]
  },
  {
   "cell_type": "code",
   "execution_count": 25,
   "id": "9c91a38b",
   "metadata": {
    "id": "9c91a38b",
    "outputId": "fc11b1e6-9790-4906-fb6f-f339baad28cb"
   },
   "outputs": [
    {
     "data": {
      "text/plain": [
       "True"
      ]
     },
     "execution_count": 25,
     "metadata": {},
     "output_type": "execute_result"
    }
   ],
   "source": [
    "1 <= 1"
   ]
  },
  {
   "cell_type": "code",
   "execution_count": 26,
   "id": "877d39ff",
   "metadata": {
    "id": "877d39ff",
    "outputId": "20e4c810-a693-4013-bb81-170f07044417"
   },
   "outputs": [
    {
     "data": {
      "text/plain": [
       "False"
      ]
     },
     "execution_count": 26,
     "metadata": {},
     "output_type": "execute_result"
    }
   ],
   "source": [
    "3 > 3"
   ]
  },
  {
   "cell_type": "markdown",
   "id": "014423c5",
   "metadata": {
    "id": "014423c5"
   },
   "source": [
    "## Condicional if\n",
    "Estructura de un \"if\"\n",
    "\n",
    "    if condicion_booleana1:\n",
    "        body1\n",
    "    elif condicion_booleana2:\n",
    "        body2\n",
    "    else:\n",
    "        body3"
   ]
  },
  {
   "cell_type": "code",
   "execution_count": 27,
   "id": "ef1cc89d",
   "metadata": {
    "id": "ef1cc89d",
    "outputId": "6f724dac-7e8b-48aa-e4cd-b11f6e748be3"
   },
   "outputs": [
    {
     "name": "stdout",
     "output_type": "stream",
     "text": [
      "Escribe tu edad.24\n",
      "Joven\n"
     ]
    }
   ],
   "source": [
    "age: int = int(input(\"Escribe tu edad.\"))\n",
    "\n",
    "if age < 18:\n",
    "    print(\"Menor de edad\")\n",
    "elif 18 <= age <= 29:\n",
    "    print(\"Joven\")\n",
    "else:\n",
    "    print(\"Adulto\")"
   ]
  },
  {
   "cell_type": "markdown",
   "id": "c2ab380b",
   "metadata": {
    "id": "c2ab380b"
   },
   "source": [
    "## Bucle for\n",
    "\n",
    "Estructura de un for:\n",
    "\n",
    "    for i in iterable:\n",
    "        do_something"
   ]
  },
  {
   "cell_type": "code",
   "execution_count": 28,
   "id": "635b7e86",
   "metadata": {
    "id": "635b7e86",
    "outputId": "8d9493f5-c503-4bde-e967-84a6e6c0526d"
   },
   "outputs": [
    {
     "name": "stdout",
     "output_type": "stream",
     "text": [
      "0\n",
      "1\n",
      "2\n",
      "3\n",
      "4\n",
      "5\n",
      "5\n",
      "4\n",
      "3\n",
      "2\n",
      "1\n",
      "0\n"
     ]
    }
   ],
   "source": [
    "for i in range(0, 12):\n",
    "    if i < 6:\n",
    "        print(i)\n",
    "    else:\n",
    "        print(11 - i)"
   ]
  },
  {
   "cell_type": "markdown",
   "id": "0b9f8872",
   "metadata": {
    "id": "0b9f8872"
   },
   "source": [
    "## Tipos de datos II"
   ]
  },
  {
   "cell_type": "markdown",
   "id": "68506cf7",
   "metadata": {
    "id": "68506cf7"
   },
   "source": [
    "### La clase list\n",
    "\n",
    "La clase list define los objetos del tipo lista.\n",
    "\n",
    "Ejemplos de listas:\n",
    "\n",
    "    [0,1,2,3,4]\n",
    "    [\"Hola\", \"mundo\"]\n",
    "    [[], [[]], [[], [[]]]]"
   ]
  },
  {
   "cell_type": "code",
   "execution_count": 29,
   "id": "d767745c",
   "metadata": {
    "id": "d767745c"
   },
   "outputs": [],
   "source": [
    "sample:list = [4,7,12,3,4,8,12]"
   ]
  },
  {
   "cell_type": "code",
   "execution_count": 30,
   "id": "9fb39bec",
   "metadata": {
    "id": "9fb39bec",
    "outputId": "0d3671d4-f14d-406a-9b99-1f7aa9280976"
   },
   "outputs": [
    {
     "name": "stdout",
     "output_type": "stream",
     "text": [
      "[4, 7, 12, 3, 4, 8, 12]\n"
     ]
    }
   ],
   "source": [
    "print(sample)"
   ]
  },
  {
   "cell_type": "markdown",
   "id": "062e14fe",
   "metadata": {
    "id": "062e14fe"
   },
   "source": [
    "### Indexing"
   ]
  },
  {
   "cell_type": "code",
   "execution_count": 31,
   "id": "91dc2902",
   "metadata": {
    "id": "91dc2902",
    "outputId": "95b6c101-afc2-4c8a-cdc3-d6ffcf7fdf80"
   },
   "outputs": [
    {
     "data": {
      "text/plain": [
       "4"
      ]
     },
     "execution_count": 31,
     "metadata": {},
     "output_type": "execute_result"
    }
   ],
   "source": [
    "sample[0]"
   ]
  },
  {
   "cell_type": "code",
   "execution_count": 32,
   "id": "4b1500c3",
   "metadata": {
    "id": "4b1500c3",
    "outputId": "ea5f4cc3-1d74-4515-fc9b-d4a22b1e052e"
   },
   "outputs": [
    {
     "data": {
      "text/plain": [
       "7"
      ]
     },
     "execution_count": 32,
     "metadata": {},
     "output_type": "execute_result"
    }
   ],
   "source": [
    "sample[1]"
   ]
  },
  {
   "cell_type": "code",
   "execution_count": 33,
   "id": "74fd1c2b",
   "metadata": {
    "id": "74fd1c2b",
    "outputId": "356e1b41-170f-47ea-c54f-7a68fb1aa880"
   },
   "outputs": [
    {
     "data": {
      "text/plain": [
       "12"
      ]
     },
     "execution_count": 33,
     "metadata": {},
     "output_type": "execute_result"
    }
   ],
   "source": [
    "sample[-1]"
   ]
  },
  {
   "cell_type": "code",
   "execution_count": 34,
   "id": "8dd28cb0",
   "metadata": {
    "id": "8dd28cb0",
    "outputId": "8eb9a9c8-604c-4609-8be8-15290ad739c4"
   },
   "outputs": [
    {
     "data": {
      "text/plain": [
       "[4, 7, 12, 3, 4, 8, 12]"
      ]
     },
     "execution_count": 34,
     "metadata": {},
     "output_type": "execute_result"
    }
   ],
   "source": [
    "sample[:]"
   ]
  },
  {
   "cell_type": "code",
   "execution_count": 35,
   "id": "83f33fb5",
   "metadata": {
    "id": "83f33fb5",
    "outputId": "72f67346-e4ca-4793-d1e7-e190f943e9c3"
   },
   "outputs": [
    {
     "data": {
      "text/plain": [
       "[4, 7, 12]"
      ]
     },
     "execution_count": 35,
     "metadata": {},
     "output_type": "execute_result"
    }
   ],
   "source": [
    "sample[0:3]"
   ]
  },
  {
   "cell_type": "markdown",
   "id": "0c63ac68",
   "metadata": {
    "id": "0c63ac68"
   },
   "source": [
    "## Funciones\n",
    "\n",
    "Estructura general de una función.\n",
    "\n",
    "    def func_name(params):\n",
    "        body\n",
    "        \n",
    "        return something\n",
    "        \n",
    "Note que la palabra reservada def tiene que ir al inicio de la función."
   ]
  },
  {
   "cell_type": "code",
   "execution_count": 36,
   "id": "6ef5f967",
   "metadata": {
    "id": "6ef5f967"
   },
   "outputs": [],
   "source": [
    "def experiment(n: int):\n",
    "    \"\"\" Función para imprimir los números de 0 a n-1\n",
    "    \n",
    "    :param n: Número entero.\n",
    "    :return None.\n",
    "    \"\"\"\n",
    "    for i in range(n):\n",
    "        print(i)"
   ]
  },
  {
   "cell_type": "code",
   "execution_count": 37,
   "id": "4dadb2b0",
   "metadata": {
    "id": "4dadb2b0",
    "outputId": "878e5f5c-7c1b-4c56-8e1e-12caf3267ba6"
   },
   "outputs": [
    {
     "name": "stdout",
     "output_type": "stream",
     "text": [
      "0\n",
      "1\n",
      "2\n",
      "3\n",
      "4\n",
      "5\n",
      "6\n",
      "7\n",
      "8\n",
      "9\n",
      "10\n",
      "11\n"
     ]
    }
   ],
   "source": [
    "# Invocación de la función\n",
    "experiment(12)"
   ]
  },
  {
   "cell_type": "markdown",
   "id": "402b85b6",
   "metadata": {
    "id": "402b85b6"
   },
   "source": [
    "# Módulos Numpy y Scipy.stats"
   ]
  },
  {
   "cell_type": "markdown",
   "id": "ARAbaFMwYT3v",
   "metadata": {
    "id": "ARAbaFMwYT3v"
   },
   "source": [
    "Python tiene un sinfin de bibliotecas con código listo para usarse. En particular, en el curso de probabilidad nos interesan las bibliotecas para hacer cálculos científicos en Python. Numpy es la libreria por defecto para trabajar con arreglos, matrices, etc; mientras que Scipy contiene objetos y funciones más especiales: las variables aleatorias implementadas en el módulo Stats son de nuestro interés.\n",
    "\n",
    "Se recomienda leer la documentación de ambas librerias, especialmente la de scypy.stats [scipy.stats](https://docs.scipy.org/doc/scipy/tutorial/stats.html)."
   ]
  },
  {
   "cell_type": "code",
   "execution_count": 38,
   "id": "f827b443",
   "metadata": {
    "id": "f827b443"
   },
   "outputs": [],
   "source": [
    "# Importamos las librerias\n",
    "\n",
    "import numpy as np\n",
    "import scipy.stats as stats\n",
    "import matplotlib.pyplot as plt\n"
   ]
  },
  {
   "cell_type": "code",
   "execution_count": 39,
   "id": "ad7515ee",
   "metadata": {
    "colab": {
     "base_uri": "https://localhost:8080/"
    },
    "id": "ad7515ee",
    "outputId": "058d2216-e3dc-439b-a284-b23438cab5f1"
   },
   "outputs": [
    {
     "data": {
      "text/plain": [
       "array([0.30966211, 0.79671526, 0.1268996 , 0.84537636, 0.60693108,\n",
       "       0.10524377, 0.49208855, 0.984536  , 0.63811358, 0.3769455 ])"
      ]
     },
     "execution_count": 39,
     "metadata": {},
     "output_type": "execute_result"
    }
   ],
   "source": [
    "# Variable aleatoria uniforme continua\n",
    "\n",
    "unif = stats.uniform.rvs(size=10)\n",
    "unif"
   ]
  },
  {
   "cell_type": "code",
   "execution_count": 40,
   "id": "ASMJkeb_c4g5",
   "metadata": {
    "colab": {
     "base_uri": "https://localhost:8080/"
    },
    "id": "ASMJkeb_c4g5",
    "outputId": "ae42a645-a72f-4864-b7d4-2b22bc184fa7"
   },
   "outputs": [
    {
     "data": {
      "text/plain": [
       "array([ 0.61957709,  1.47629948, -0.40382282,  2.110234  , -0.67471706,\n",
       "       -0.27758086, -0.61028813,  1.19010088, -0.98267265, -2.19960929])"
      ]
     },
     "execution_count": 40,
     "metadata": {},
     "output_type": "execute_result"
    }
   ],
   "source": [
    "norm = stats.norm.rvs(size=10)\n",
    "norm"
   ]
  },
  {
   "cell_type": "markdown",
   "id": "zx4LYpK0c0ZD",
   "metadata": {
    "id": "zx4LYpK0c0ZD"
   },
   "source": [
    "Como podemos ver, el módulo stats tiene a los objetos uniform y norm (tiene muchas más variables aleatorias, para más info véase la documentacion), los cuales tienen el método .rvs() el cual genera números pseudo-aleatorios que siguen dicha distribución.\n",
    "\n",
    "Para ver esto de manera gráfica, construiremos histogramas (también conocidos como densidades empíricas) con estos números."
   ]
  },
  {
   "cell_type": "code",
   "execution_count": 41,
   "id": "X3qe4ji_j1Sz",
   "metadata": {
    "colab": {
     "base_uri": "https://localhost:8080/",
     "height": 268
    },
    "id": "X3qe4ji_j1Sz",
    "outputId": "eee36b72-adf8-4ef6-fc17-651957e8abeb"
   },
   "outputs": [
    {
     "data": {
      "image/png": "[encoded data removed]",
      "text/plain": [
       "<Figure size 432x288 with 1 Axes>"
      ]
     },
     "metadata": {
      "needs_background": "light"
     },
     "output_type": "display_data"
    }
   ],
   "source": [
    "unif = stats.uniform.rvs(size=10)\n",
    "plt.hist(unif, density=True, bins=25);"
   ]
  },
  {
   "cell_type": "code",
   "execution_count": 42,
   "id": "KYUvIyQacwC1",
   "metadata": {
    "colab": {
     "base_uri": "https://localhost:8080/",
     "height": 265
    },
    "id": "KYUvIyQacwC1",
    "outputId": "f832563d-7d18-43ac-b175-8d6877c8f378"
   },
   "outputs": [
    {
     "data": {
      "image/png": "[encoded data removed]",
      "text/plain": [
       "<Figure size 432x288 with 1 Axes>"
      ]
     },
     "metadata": {
      "needs_background": "light"
     },
     "output_type": "display_data"
    }
   ],
   "source": [
    "unif = stats.uniform.rvs(size=1000)\n",
    "plt.hist(unif, density=True, bins=25);"
   ]
  },
  {
   "cell_type": "code",
   "execution_count": 43,
   "id": "YiCqmgPidv2h",
   "metadata": {
    "colab": {
     "base_uri": "https://localhost:8080/",
     "height": 265
    },
    "id": "YiCqmgPidv2h",
    "outputId": "f5468dbc-7111-4559-cf7a-face8cdb1a75"
   },
   "outputs": [
    {
     "data": {
      "image/png": "[encoded data removed]",
      "text/plain": [
       "<Figure size 432x288 with 1 Axes>"
      ]
     },
     "metadata": {
      "needs_background": "light"
     },
     "output_type": "display_data"
    }
   ],
   "source": [
    "unif = stats.uniform.rvs(size=100000)\n",
    "plt.hist(unif, density=True, bins=25);"
   ]
  },
  {
   "cell_type": "markdown",
   "id": "YS_Arm-RdzeG",
   "metadata": {
    "id": "YS_Arm-RdzeG"
   },
   "source": [
    "Como podemos ver, mientras más números tengamos, el histograma es más parecido a una densidad, en este caso, uniforme sobre el intervalo $(0,1)$. A continuación se muestra el mismo ejercicios pero con una densidad normal estándar."
   ]
  },
  {
   "cell_type": "code",
   "execution_count": 44,
   "id": "BUU77yNSdxjZ",
   "metadata": {
    "colab": {
     "base_uri": "https://localhost:8080/",
     "height": 265
    },
    "id": "BUU77yNSdxjZ",
    "outputId": "d253704e-ba3e-45b6-dc7a-0f965a6ee588"
   },
   "outputs": [
    {
     "data": {
      "image/png": "[encoded data removed]",
      "text/plain": [
       "<Figure size 432x288 with 1 Axes>"
      ]
     },
     "metadata": {
      "needs_background": "light"
     },
     "output_type": "display_data"
    }
   ],
   "source": [
    "norm = stats.norm.rvs(size=100000)\n",
    "plt.hist(norm, density=True, bins=50);"
   ]
  },
  {
   "cell_type": "markdown",
   "id": "jNNgA0YweQPP",
   "metadata": {
    "id": "jNNgA0YweQPP"
   },
   "source": [
    "Aunque el módulo stats ya tiene muchas variables aleatorias implementadas, nosotros podemos generar nuestras propias implementaciones. Lo único que necesitamos es una forma de generar números pseudo-aleatorios con distribución uniforme en $(0,1)$"
   ]
  },
  {
   "cell_type": "markdown",
   "id": "X3yHqT2zeifG",
   "metadata": {
    "id": "X3yHqT2zeifG"
   },
   "source": [
    "## Un generador lineal congruencial\n",
    "\n",
    "Para generar números pseudo-aleatorios podemos utilizar una relación lineal de recurrencia:\n",
    "$$\n",
    "X_i = m X_{i-1} + p\n",
    "$$\n",
    "\n",
    "para valores adecuados de $m$ y $p$ (se recomienda que el módulo $m$ sea lo suficientemente grande para que el generador lineal sea bueno), e $i \\in \\{1,2,...\\}$. Los números con densidad uniforme en $(0,1)$ estarán dados por:\n",
    "$$\n",
    "U_i = \\frac{X_i}{p}\n",
    "$$"
   ]
  },
  {
   "cell_type": "code",
   "execution_count": 45,
   "id": "67eXsgKheD7C",
   "metadata": {
    "id": "67eXsgKheD7C"
   },
   "outputs": [],
   "source": [
    "def pseudo_uniform(p: int = (2**43) - 1,\n",
    "                   m: int = 321456,\n",
    "                   seed: int = 1234567890,\n",
    "                   size: int = 1):\n",
    "  \"\"\"\n",
    "  :param p: módulo. Se elige un número primo muy grande.\n",
    "  :param m: magnitud.\n",
    "  :param seed: Semilla para generar el valor inicial.\n",
    "  :param size: tamaño de la muestra.\n",
    "  \"\"\"\n",
    "  # Arreglo de tamaño @param:size para guardar los números generados\n",
    "  U = np.zeros(size)\n",
    "  X = (seed * m + 1) % p\n",
    "  U[0] = X / p\n",
    "\n",
    "  for i in range(1, size):\n",
    "    X = (X * m + 1) % p\n",
    "    U[i] = X / p\n",
    "\n",
    "  return U\n"
   ]
  },
  {
   "cell_type": "code",
   "execution_count": 46,
   "id": "oJC5LGJUiB_x",
   "metadata": {
    "colab": {
     "base_uri": "https://localhost:8080/",
     "height": 265
    },
    "id": "oJC5LGJUiB_x",
    "outputId": "ccc8779c-e99f-4d02-9603-914e57edafea"
   },
   "outputs": [
    {
     "data": {
      "image/png": "[encoded data removed]",
      "text/plain": [
       "<Figure size 432x288 with 1 Axes>"
      ]
     },
     "metadata": {
      "needs_background": "light"
     },
     "output_type": "display_data"
    }
   ],
   "source": [
    "unif_custom = pseudo_uniform(size=500000)\n",
    "plt.hist(unif_custom, density=True, bins=100);"
   ]
  },
  {
   "cell_type": "code",
   "execution_count": null,
   "id": "tFPHL7PbiMO9",
   "metadata": {
    "id": "tFPHL7PbiMO9"
   },
   "outputs": [],
   "source": []
  }
 ],
 "metadata": {
  "colab": {
   "collapsed_sections": [
    "de837c12",
    "b7fa97b7",
    "5aabcd53",
    "1e3d281a",
    "11cfe9a6",
    "68506cf7",
    "062e14fe"
   ],
   "provenance": []
  },
  "kernelspec": {
   "display_name": "Python 3 (ipykernel)",
   "language": "python",
   "name": "python3"
  },
  "language_info": {
   "codemirror_mode": {
    "name": "ipython",
    "version": 3
   },
   "file_extension": ".py",
   "mimetype": "text/x-python",
   "name": "python",
   "nbconvert_exporter": "python",
   "pygments_lexer": "ipython3",
   "version": "3.10.6"
  }
 },
 "nbformat": 4,
 "nbformat_minor": 5
}
