{
 "cells": [
  {
   "cell_type": "markdown",
   "id": "114377ce",
   "metadata": {},
   "source": [
    "# 2.6 Simulación de variables aleatorias\n",
    "Probabilidad 1\\\n",
    "Semestre 2023-1\\\n",
    "Por: Jorge Iván Reyes Hernández\\\n",
    "Facultad de Ciencias, UNAM"
   ]
  },
  {
   "cell_type": "markdown",
   "id": "a9d1abd2",
   "metadata": {},
   "source": [
    "En este Notebook revisaremos brevemente un par de resultados que nos ayudarán a generar números aleatorios de diversas distribuciones. Comenzamos definiendo qué es una sucesión de números aleatorios uniformemente distribuidos en el intervalo $[0,1]$.\n",
    "\n",
    "**Definición**. \n",
    "Una sucesión $\\{ x_n \\}_{n\\in \\mathbb{N}^{+}}$ de números reales en el intervalo $[0,1]\\subset \\mathbb{R}$ es una sucesión de números aleatorios si existen\n",
    "1. Un espacio de probabilidad $(\\Omega, \\mathcal{F}, P)$,\n",
    "2. Una sucesión $\\{ U_n \\}_{n\\in \\mathbb{N}^{+}}$ de variables aleatorias independientes e idénticamente distribuidas con distribución $\\mathbf{U}([0,1])$, y\n",
    "3. $\\omega \\in \\Omega$ tal que $\\forall n \\in \\mathbb{N}^{+}$, $x_n = U_n(\\omega)$.\n",
    "\n",
    "---\n",
    "\n",
    "Intuitivamente, podemos pensar en números aleatorios uniformemente distribuidos como las realizaciones de variables aleatorias uniformes. \n",
    "\n",
    "Más adelante veremos que una consencuencia del _Principio fundamental de la simulación_ es que cualquier variable aleatoria puede ser simulada usando únicamente la distribución uniforme en $[0,1]$. Por lo anterior, el problema de simular variables aleatorias se reduce a saber cómo simular variables aleatorias uniformes (es decir, cómo generar números aleatorios uniformemente distribuidos en $[0,1]$).\n",
    "\n",
    "## Un generador lineal congruencial\n",
    "\n",
    "Un procedimiento usual para generar números (pseudo)-aleatorios es generar números enteros $y_n$ a través de la relación congruencial de recurrencia,\n",
    "\n",
    "$$\n",
    "\\begin{equation}\n",
    "    y_{n+1}  \\equiv a y_n + b \\hspace{0.5 cm} \\text{mod } N\n",
    "\\end{equation}\n",
    "$$\n",
    "\n",
    "y luego construir la sucesión de números pseudo-aleatorios como sigue,\n",
    "\n",
    "$$\n",
    "    x_{n} = \\frac{y_n}{N}, \\hspace{0.5 cm} y_n \\in \\{0, \\dots, N-1 \\}\n",
    "$$\n",
    "\n",
    "donde $mcd(a, N) = 1$ (es decir, $a$ y $N$ son primos relativos). Note que por construcción, $x_n \\in [0,1)$ para toda $n$, por lo que son buenos candidatos para ser números (pseudo)-aleatorios uniformemente distribuidos en $(0,1)$.\n",
    "\n",
    "La parte fina del generador lineal congruencial es saber elegir valores de $a, b$ y $N$ adecuados. Para ver los detalles teóricos véase [1].\n",
    "\n",
    "## Mersenne Twister + Lehmer\n",
    "\n",
    "Por simplicidad, optaremos por hacer un generador lineal congruencial siguiendo algunas ideas del generador [Mersenne Twister](https://en.wikipedia.org/wiki/Mersenne_Twister) y del generador de [Lehmer](https://en.wikipedia.org/wiki/Lehmer_random_number_generator).\n",
    "\n",
    "El generador Lehmer supone que $b=0$, y el generador Mersenne Twister que $N$ es un número primo de Mersenne. Además necesitamos que $mcd(y_0, N) = 1$ y que el orden multiplicativo módulo N de $a$ sea grande (aunque esto es importante para obtener el mayor periodo, no es obligatorio).\n",
    "\n",
    "La relación congruencial de recurrencia se reduce a,\n",
    "\n",
    "$$\n",
    "\\begin{equation}\n",
    "    y_{n+1}  \\equiv a y_n  \\hspace{0.5 cm} \\text{mod } N\n",
    "\\end{equation}\n",
    "$$\n",
    "\n",
    "con $N = 2 ^{p} - 1$ con $p$ un número primo. Al valor inicial $y_0$ se le conoce como semilla (seed, en inglés)."
   ]
  },
  {
   "cell_type": "code",
   "execution_count": 1,
   "id": "de2bf125",
   "metadata": {},
   "outputs": [],
   "source": [
    "from math import gcd\n",
    "import matplotlib.pyplot as plt\n",
    "import numpy as np\n"
   ]
  },
  {
   "cell_type": "code",
   "execution_count": 2,
   "id": "617d1bc2",
   "metadata": {},
   "outputs": [],
   "source": [
    "def random_generator(N: int = (2**43) - 1,\n",
    "                     a: int = 321456,\n",
    "                     b: int = 0,\n",
    "                     y_0: int = 1234567890,\n",
    "                     size: int = 1):\n",
    "    \"\"\"\n",
    "    :param N: Módulo. Un número primo de Mersenne. Por defecto, p = 43, N = 2^{p} - 1\n",
    "    :param a: Magnitud.\n",
    "    :param b: Salto. Por defecto su valor es 0 (Lehmer generator).\n",
    "    :param y_0: Semilla para generar el valor inicial.\n",
    "    :param size: Tamaño de la muestra.\n",
    "    \"\"\"\n",
    "    \n",
    "    # Verificamos que a y X_0 sean primos relativos con N.\n",
    "    assert gcd(N, a) == 1, print(f\"mcd({a},{N}) != 1\")\n",
    "    assert gcd(N, y_0) == 1, print(f\"mcd({y_0},{N}) != 1\")\n",
    "        \n",
    "    # Arreglo de tamaño @param:size para guardar los números generados.\n",
    "    U = np.zeros(size)\n",
    "    \n",
    "    # Primer elemento y = y_1 = a * y_0 + b  mod N.\n",
    "    y = (a * y_0 + b) % N\n",
    "    \n",
    "    # Dividimos por N y guardamos en el arreglo.\n",
    "    U[0] = y / N\n",
    "    \n",
    "    # Construimos los demás elementos\n",
    "    for i in range(1, size):\n",
    "        y = (a * y + b) % N\n",
    "        U[i] = y / N\n",
    "\n",
    "    return U"
   ]
  },
  {
   "cell_type": "code",
   "execution_count": 3,
   "id": "e46a136b",
   "metadata": {},
   "outputs": [
    {
     "data": {
      "image/png": "[encoded data removed]",
      "text/plain": [
       "<Figure size 432x2160 with 6 Axes>"
      ]
     },
     "metadata": {
      "needs_background": "light"
     },
     "output_type": "display_data"
    }
   ],
   "source": [
    "# Probamos el generador\n",
    "\n",
    "fig, ax = plt.subplots(6, 1)\n",
    "fig.set_figwidth(6)\n",
    "fig.set_figheight(30)\n",
    "\n",
    "sizes = [10 ** i for i in range(1,7)]\n",
    "\n",
    "for i in range(len(sizes)):\n",
    "    unif_custom = random_generator(size=sizes[i])\n",
    "    ax[i].hist(unif_custom, density=True, bins=50)\n",
    "    plt.plot()"
   ]
  },
  {
   "cell_type": "markdown",
   "id": "72e68cdb",
   "metadata": {},
   "source": [
    "Como podemos ver, los números generados se aproximan más a números aleatorios conforme el tamaño de la muestra crece.\n",
    "\n",
    "## El teorema fundamental de la simulación\n",
    "\n",
    "El siguiente teorema es la base teórica de todo lo que haremos en lo sucesivo.\n",
    "\n",
    "**Teorema (fundamental de la simulación).** Sea $(\\mathbb{R}, d_E)$  un espacio topológico completamente metrizable y separable, y sea \n",
    "\n",
    "$$\n",
    "    X:(\\Omega, \\mathcal{F}, P) \\to (\\mathbb{R}, \\mathcal{B}(\\mathbb{R}), \\mathbb{P})\n",
    "$$\n",
    "\n",
    "una variable aleatoria con distribución $\\mathbb{P}$. Entonces existe una función borel medible \n",
    "\n",
    "$$\n",
    "    \\varphi : ([0,1], \\mathcal{B}([0,1]), \\lambda_{[0,1]}) \\to (\\mathbb{R}, \\mathcal{B}(\\mathbb{R}), \\mathbb{P})\n",
    "$$\n",
    "\n",
    "tal que\n",
    "\n",
    "$$\n",
    "    \\mathbb{P} = \\lambda_{[0,1]} \\circ \\varphi ^{-1}\n",
    "$$\n",
    "\n",
    "donde $\\lambda_{[0,1]} \\circ \\varphi ^{-1}$ denota la imagen de $\\varphi$ bajo la medida de Lebesgue $\\lambda_{[0,1]}$ en el intervalo $[0,1]$.\n",
    "\n",
    "---\n",
    "\n",
    "Lo que nos interesa del teorema anterior es el siguiente,\n",
    "\n",
    "**Corolario** Si $U$ es una variable aleatoria con distribución uniforme en $[0,1]$ definida en el espacio de probabilidad $(\\Omega, \\mathcal{F}, P)$, entonces dada cualquier variable aleatoria $X$, existe una función borel-medible tal que,\n",
    "$$\n",
    "    X \\overset{d}{=} \\varphi(U)\n",
    "$$\n",
    "\n",
    "---\n",
    "\n",
    "Es decir, podemos partir de números aleatorios uniformemente distribuidos en $[0,1]$, $u_i$, aplicarles una transformación apropiada, $\\varphi$, y generar números aleatorios con cualquier otra distribución, $x_i = \\varphi(u_i)$. Note que la elección de $\\varphi$ dependerá de la distribución de $X$."
   ]
  },
  {
   "cell_type": "markdown",
   "id": "b04b6fff",
   "metadata": {},
   "source": [
    "## Simulación de variables aleatorias\n",
    "\n",
    "Ya sabemos cómo simular números pseudo-aleatorios con distribución uniforme en $[0,1]$ (véase la función _random_generator_), entonce sólo basta encontrar funciones $\\varphi$ adecuadas para generar otras variables aleatorias. El ejemplo más sencillo es el de la distribución Bernoulli, $Ber(p)$.\n",
    "\n",
    "### Distribución Bernoulli\n",
    "Queremos simular números aleatorios que sigan una distribución $Ber(p)$, $p \\in (0,1)$.\n",
    "\n",
    "Para cada $p \\in (0,1)$, considere $A_p = \\{y \\in \\mathbb{R}: y \\leq p \\}$ y defina la función $\\varphi : [0,1] \\to \\mathbb{R}$, dada por\n",
    "\n",
    "$$\n",
    "\\begin{align*}\n",
    "    \\varphi(x) &= \\mathbf{1}_{A_p}(x)\\\\\n",
    "               &= \\begin{cases} \n",
    "                  1 &\\text{ si } x \\in A_p\\\\\n",
    "                  0 &\\text{ si } x \\notin A_p\\\\\n",
    "                  \\end{cases}\\\\\n",
    "               &= \\begin{cases} \n",
    "                  1 &\\text{ si } x \\leq p \\\\\n",
    "                  0 &\\text{ si } x > p \\\\\n",
    "               \\end{cases}\\\\\n",
    "\\end{align*}\n",
    "$$\n",
    "\n",
    "Entonces, \n",
    "\n",
    "$$\n",
    "\\begin{align*}\n",
    "    X(\\omega) &= \\varphi(U(\\omega))\\\\\n",
    "              &= \\begin{cases} \n",
    "                  1 &\\text{ si } U(\\omega) \\leq p \\\\\n",
    "                  0 &\\text{ si } U(\\omega) > p \\\\\n",
    "               \\end{cases}\\\\\n",
    "\\end{align*}\n",
    "$$\n",
    "\n",
    "Note que la variable aleatoria $X$ tiene dos resultados, $0$ y $1$, además $\\mathbb{P}(X=1) = \\mathbb{P}(U \\leq p) = p$, por lo que $X$ tiene distribución $Ber(p)$"
   ]
  },
  {
   "cell_type": "code",
   "execution_count": 4,
   "id": "8337b750",
   "metadata": {},
   "outputs": [],
   "source": [
    "def ber(p, size):\n",
    "    \"\"\" Función que simula números aleatorios con distribución Ber(p).\n",
    "    \n",
    "    :param p: Parámetro de éxito en el ensayo bernoulli.\n",
    "    :para size: Tamaño de la muestra.\n",
    "    :return: Arreglo con @param:size números pseudo-aleatorios con distribución ber(p)\n",
    "    \"\"\"\n",
    "    \n",
    "    assert 0 <= p <= 1\n",
    "    assert size > 0\n",
    "    \n",
    "    # Arreglo para guardar los números aleatorios con distribución Ber(p)\n",
    "    X = np.zeros(size, dtype=int)\n",
    "    \n",
    "    # Generamos tantos números uniformemente distribuidos como elementos bernoulli queramos\n",
    "    U = random_generator(size=size)\n",
    "    \n",
    "    for i in range(size):        \n",
    "        if U[i] <= p:\n",
    "            X[i] = 1\n",
    "        else:\n",
    "            X[i] = 0\n",
    "            \n",
    "    return X"
   ]
  },
  {
   "cell_type": "code",
   "execution_count": 5,
   "id": "5e1e7517",
   "metadata": {},
   "outputs": [
    {
     "data": {
      "text/plain": [
       "array([1, 0, 0, 1, 0, 0, 1, 1, 0, 1, 0, 0, 0, 1, 1, 0, 0, 1, 0, 0, 0, 1,\n",
       "       1, 1, 0, 0, 0, 1, 0, 1, 1, 1, 1, 0, 0, 0, 1, 1, 1, 1, 1, 1, 0, 1,\n",
       "       1, 0, 1, 0, 1, 0, 1, 1, 1, 1, 1, 1, 1, 1, 0, 0, 1, 0, 1, 1, 1, 0,\n",
       "       0, 0, 0, 0, 0, 0, 1, 0, 0, 1, 1, 0, 1, 0, 0, 1, 0, 0, 0, 1, 1, 0,\n",
       "       1, 0, 0, 0, 0, 0, 1, 0, 1, 0, 1, 0])"
      ]
     },
     "execution_count": 5,
     "metadata": {},
     "output_type": "execute_result"
    }
   ],
   "source": [
    "# Probamos nuestra función\n",
    "\n",
    "ber_sample = ber(0.5, 100)\n",
    "ber_sample\n"
   ]
  },
  {
   "cell_type": "code",
   "execution_count": 6,
   "id": "d8d84d25",
   "metadata": {},
   "outputs": [
    {
     "data": {
      "text/plain": [
       "49"
      ]
     },
     "execution_count": 6,
     "metadata": {},
     "output_type": "execute_result"
    }
   ],
   "source": [
    "# Verificamos que aproximadamente la mitad de la muestra sea 1.\n",
    "\n",
    "sum(ber_sample)\n"
   ]
  },
  {
   "cell_type": "code",
   "execution_count": 7,
   "id": "3a67cc55",
   "metadata": {},
   "outputs": [
    {
     "data": {
      "image/png": "[encoded data removed]",
      "text/plain": [
       "<Figure size 432x288 with 1 Axes>"
      ]
     },
     "metadata": {
      "needs_background": "light"
     },
     "output_type": "display_data"
    }
   ],
   "source": [
    "# Hacemos un histograma para ver la densidad empírica de la muestra\n",
    "\n",
    "plt.hist(ber_sample, density=True);\n"
   ]
  },
  {
   "cell_type": "markdown",
   "id": "f4ab4b3f",
   "metadata": {},
   "source": [
    "\n",
    "### Distribución Binomial\n",
    "Queremos simular números aleatorios que sigan una distribución $Bin(n,p)$, $n \\geq 1$, $p \\in (0,1)$.\n",
    "\n",
    "Esto es relativamente fácil de hacer, pues sabemos que si tenemos $X_1, \\dots X_n \\sim Ber(p)$, entonces \n",
    "\n",
    "$$\n",
    "\\sum _{i=1}^{n} X_i \\sim Bin(n,p)\n",
    "$$"
   ]
  },
  {
   "cell_type": "code",
   "execution_count": 8,
   "id": "05732d48",
   "metadata": {},
   "outputs": [],
   "source": [
    "def binom(n, p, size):\n",
    "    \"\"\" Función para simular números pseudo-aleatorios con distribución binom(n, p)\n",
    "    \n",
    "    :param n: Parámetro n >= 1\n",
    "    :param p: Parámetro de éxito en los ensayos bernoulli.\n",
    "    :param size: Tamaño de la muestra.\n",
    "    :return: Arreglo con @param:size números pseudo-aleatorios con distribución binom(n,p)\n",
    "    \"\"\"\n",
    "    assert n >= 1\n",
    "    assert 0 <= p <= 1\n",
    "    assert size > 0\n",
    "    \n",
    "    # Arreglo para guarda los números con distribución bin(n, p)\n",
    "    Y = np.zeros(size, dtype=int)\n",
    "    \n",
    "    # Generamos size*n variables aleatorias bernoulli\n",
    "    X = ber(p, size=size*n)\n",
    "    \n",
    "    # Construimos una matriz de tamaño size x n. Vamos a sumar los renglones\n",
    "    # Cada renglón tiene n v.a bernoulli.\n",
    "    X = X.reshape(size, n)\n",
    "    \n",
    "    for i in range(size):\n",
    "        Y[i] = np.sum(X[i])\n",
    "    \n",
    "    return Y"
   ]
  },
  {
   "cell_type": "code",
   "execution_count": 9,
   "id": "b3535167",
   "metadata": {},
   "outputs": [
    {
     "data": {
      "text/plain": [
       "array([ 7,  6, 11, ...,  5,  5,  6])"
      ]
     },
     "execution_count": 9,
     "metadata": {},
     "output_type": "execute_result"
    }
   ],
   "source": [
    "# Probamos nuestra función\n",
    "binom_sample = binom(15, 0.5, size=100000)\n",
    "binom_sample"
   ]
  },
  {
   "cell_type": "code",
   "execution_count": 10,
   "id": "740eb393",
   "metadata": {
    "scrolled": true
   },
   "outputs": [
    {
     "data": {
      "image/png": "[encoded data removed]",
      "text/plain": [
       "<Figure size 432x288 with 1 Axes>"
      ]
     },
     "metadata": {
      "needs_background": "light"
     },
     "output_type": "display_data"
    }
   ],
   "source": [
    "plt.hist(binom_sample, density=True, bins=15);\n"
   ]
  },
  {
   "cell_type": "markdown",
   "id": "464a7b17",
   "metadata": {},
   "source": [
    "---\n",
    "\n",
    "**Ejercicios**\n",
    "1. Sea $U$ una variable aleatoria uniforme en $[0, 1]$. Sean $a,b \\in \\mathbb{R}$, $a < b$ dos constantes. Se puede demostrar que la variable aleatoria \n",
    "$$\n",
    "    X = \\varphi(U) = a + (b-a)U\n",
    "$$ \n",
    "tiene distribución uniforme en el intervalo $[a,b]$. Genere $n = 500,000$ números pseudo-aleatorios (usando la función _random_generator_ y la función $\\varphi$ adecuada) con distribución uniforme en el intervalo $[a,b]$. Construya un histograma para esta muestra."
   ]
  },
  {
   "cell_type": "code",
   "execution_count": 11,
   "id": "cf5fde28",
   "metadata": {},
   "outputs": [],
   "source": [
    "# Tu solución\n"
   ]
  },
  {
   "cell_type": "markdown",
   "id": "287aa6b2",
   "metadata": {},
   "source": [
    "2. Sea $U$ una variable aleatoria con distribución uniforme en el intervalo $[0, 1]$. Sea $\\lambda > 0$ una constante y defina la siguiente transformación, \n",
    "$$ \n",
    "X = \\varphi(U) = -\\frac{1}{\\lambda}\\ln{(1-U)}\n",
    "$$ \n",
    "Demuestre que $X \\sim \\exp(\\lambda)$. Además genere $n = 500,000$ números pseudo-aleatorios (usando la función _random_generator_ y la función $\\varphi$ adecuada) con distribución $\\exp(\\lambda)$. Construya un histograma para esta muestra."
   ]
  },
  {
   "cell_type": "code",
   "execution_count": 12,
   "id": "d6363606",
   "metadata": {},
   "outputs": [],
   "source": [
    "# Tu solución\n"
   ]
  },
  {
   "cell_type": "markdown",
   "id": "baa9261e",
   "metadata": {},
   "source": [
    "---\n",
    "\n",
    "# Referencias\n",
    "[1]. Pagès, Gilles, Numerical Probability An Introduction with Applications to Finance, Springer, 2018.\\\n",
    "[2]. Rincón, Luis, Introducción a la probabilidad, La Prensa de Ciencias, 2014."
   ]
  }
 ],
 "metadata": {
  "kernelspec": {
   "display_name": "Python 3 (ipykernel)",
   "language": "python",
   "name": "python3"
  },
  "language_info": {
   "codemirror_mode": {
    "name": "ipython",
    "version": 3
   },
   "file_extension": ".py",
   "mimetype": "text/x-python",
   "name": "python",
   "nbconvert_exporter": "python",
   "pygments_lexer": "ipython3",
   "version": "3.10.6"
  }
 },
 "nbformat": 4,
 "nbformat_minor": 5
}
